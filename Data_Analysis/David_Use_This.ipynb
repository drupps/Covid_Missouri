{
 "cells": [
  {
   "cell_type": "code",
   "execution_count": 2,
   "metadata": {},
   "outputs": [],
   "source": [
    "# Libraries needed for the tutorial\n",
    "\n",
    "import pandas as pd\n",
    "import requests\n",
    "import io\n",
    "import json\n",
    "from pandas import json_normalize\n",
    "import matplotlib.pyplot as plt\n",
    "import pandas as pd\n",
    "import numpy as np\n",
    "import requests\n",
    "import time\n",
    "from datetime import datetime\n",
    "from scipy import stats\n",
    "from scipy.stats import linregress\n",
    "import plotly.graph_objects as go"
   ]
  },
  {
   "cell_type": "code",
   "execution_count": 3,
   "metadata": {},
   "outputs": [],
   "source": [
    "county_df = pd.read_csv(\"../Resources/Master_County_Data.csv\")\n",
    "county_df['Cases_per_capita'] = (county_df['cases_total']/county_df['Total population'])*100000\n",
    "county_df['Deaths_per_capita'] = (county_df['deaths_total']/county_df['Total population'])*100000\n",
    "county_df['Mortality_rate'] = (county_df['deaths_total']/county_df['cases_total'])*100\n",
    "county_df['population_density'] = (county_df['Total population']/county_df['area'])\n",
    "county_df.columns\n",
    "usa_df = pd.read_csv(\"../Resources/Master_County_Data_USA.csv\")\n",
    "usa_df['Cases_per_capita'] = (usa_df['cases_total']/usa_df['Total population'])*100000\n",
    "usa_df['Deaths_per_capita'] = (usa_df['deaths_total']/usa_df['Total population'])*100000\n",
    "usa_df['Mortality_rate'] = (usa_df['deaths_total']/usa_df['cases_total'])*100\n",
    "usa_df['population_density'] = (usa_df['Total population']/usa_df['area'])\n",
    "\n",
    "\n",
    "data = [county_df[\"location\"], county_df[\"Cases_per_capita\"], county_df[\"county_name\"], county_df['Deaths_per_capita'], county_df['Mortality_rate'],county_df['population_density'], county_df['Median household income'], county_df['Fraction of population over 65'], county_df['Percent of civilian population with no health insurance'], county_df['Percent of families w/ income < poverty lvl in last year']]\n",
    "headers = [\"fips\", \"Cases_per_capita\", 'County', 'Deaths_per_capita', 'Mortality Rate', 'Pop Density', 'Median Income', 'Population Over 65', 'Pop without Health Insurance', \"Pop Below Poverty Line\"]\n",
    "map_df = pd.concat(data, axis=1, keys=headers)"
   ]
  },
  {
   "cell_type": "code",
   "execution_count": null,
   "metadata": {},
   "outputs": [],
   "source": []
  }
 ],
 "metadata": {
  "kernelspec": {
   "display_name": "Python 3",
   "language": "python",
   "name": "python3"
  },
  "language_info": {
   "codemirror_mode": {
    "name": "ipython",
    "version": 3
   },
   "file_extension": ".py",
   "mimetype": "text/x-python",
   "name": "python",
   "nbconvert_exporter": "python",
   "pygments_lexer": "ipython3",
   "version": "3.7.6"
  }
 },
 "nbformat": 4,
 "nbformat_minor": 4
}
