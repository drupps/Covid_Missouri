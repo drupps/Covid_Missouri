{
 "cells": [
  {
   "cell_type": "code",
   "execution_count": 1,
   "metadata": {},
   "outputs": [
    {
     "name": "stdout",
     "output_type": "stream",
     "text": [
      "  report_date    zip  geoid     county     state  cases  case_rate\n",
      "0  2020-04-06  63005  29189  St. Louis  Missouri   31.0   1.733102\n",
      "1  2020-04-06  63011  29189  St. Louis  Missouri   26.0   0.676449\n",
      "2  2020-04-06  63017  29189  St. Louis  Missouri   48.0   1.155068\n",
      "3  2020-04-06  63021  29189  St. Louis  Missouri   34.0   0.604627\n",
      "4  2020-04-06  63025  29189  St. Louis  Missouri    7.0   0.834625\n"
     ]
    }
   ],
   "source": [
    "# Libraries needed for the tutorial\n",
    "\n",
    "import pandas as pd\n",
    "import requests\n",
    "import io\n",
    "    \n",
    "# Downloading the csv file from your GitHub account\n",
    "## NEEDS TO BE RAW LINK OR IT WILL NOT WORK\n",
    "url = \"https://raw.githubusercontent.com/slu-openGIS/MO_HEALTH_Covid_Tracking/master/data/zip/zip_stl_county.csv?_sm_au_=iTV0t3Dkn0R3M7DNHftsvK0JJcR7F\" # Make sure the url is the raw version of the file on GitHub\n",
    "download = requests.get(url).content\n",
    "\n",
    "# Reading the downloaded content and turning it into a pandas dataframe\n",
    "\n",
    "df = pd.read_csv(io.StringIO(download.decode('utf-8')))\n",
    "\n",
    "# Printing out the first 5 rows of the dataframe\n",
    "\n",
    "print (df.head())\n"
   ]
  },
  {
   "cell_type": "code",
   "execution_count": null,
   "metadata": {},
   "outputs": [],
   "source": []
  }
 ],
 "metadata": {
  "kernelspec": {
   "display_name": "Python 3",
   "language": "python",
   "name": "python3"
  },
  "language_info": {
   "codemirror_mode": {
    "name": "ipython",
    "version": 3
   },
   "file_extension": ".py",
   "mimetype": "text/x-python",
   "name": "python",
   "nbconvert_exporter": "python",
   "pygments_lexer": "ipython3",
   "version": "3.6.10"
  }
 },
 "nbformat": 4,
 "nbformat_minor": 4
}
