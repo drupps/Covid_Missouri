{
 "cells": [
  {
   "cell_type": "code",
   "execution_count": 2,
   "metadata": {},
   "outputs": [
    {
     "name": "stdout",
     "output_type": "stream",
     "text": [
      "  report_date    zip  geoid     county     state  cases  case_rate\n",
      "0  2020-04-06  63005  29189  St. Louis  Missouri   31.0   1.733102\n",
      "1  2020-04-06  63011  29189  St. Louis  Missouri   26.0   0.676449\n",
      "2  2020-04-06  63017  29189  St. Louis  Missouri   48.0   1.155068\n",
      "3  2020-04-06  63021  29189  St. Louis  Missouri   34.0   0.604627\n",
      "4  2020-04-06  63025  29189  St. Louis  Missouri    7.0   0.834625\n"
     ]
    }
   ],
   "source": [
    "# Libraries needed for the tutorial\n",
    "\n",
    "import pandas as pd\n",
    "import requests\n",
    "import io\n",
    "    \n",
    "# Downloading the csv file from your GitHub account\n",
    "## NEEDS TO BE RAW LINK OR IT WILL NOT WORK\n",
    "url = \"https://raw.githubusercontent.com/slu-openGIS/MO_HEALTH_Covid_Tracking/master/data/zip/zip_stl_county.csv?_sm_au_=iTV0t3Dkn0R3M7DNHftsvK0JJcR7F\" # Make sure the url is the raw version of the file on GitHub\n",
    "download = requests.get(url).content\n",
    "\n",
    "# Reading the downloaded content and turning it into a pandas dataframe\n",
    "\n",
    "df = pd.read_csv(io.StringIO(download.decode('utf-8')))\n",
    "\n",
    "# Printing out the first 5 rows of the dataframe\n",
    "\n",
    "print (df.head())\n"
   ]
  },
  {
   "cell_type": "code",
   "execution_count": 3,
   "metadata": {},
   "outputs": [
    {
     "name": "stdout",
     "output_type": "stream",
     "text": [
      "   GEOID               NAME  total_pop\n",
      "0  29083       Henry County      21765\n",
      "1  29011      Barton County      11850\n",
      "2  29103        Knox County       3951\n",
      "3  29117  Livingston County      15076\n",
      "4  29101     Johnson County      53689\n"
     ]
    }
   ],
   "source": [
    "import pandas as pd\n",
    "import requests\n",
    "import io\n",
    "\n",
    "url='https://raw.githubusercontent.com/slu-openGIS/MO_HEALTH_Covid_Tracking/master/data/source/mo_county_plus/mo_county_plus.csv?_sm_au_=iTVT4DZWZtNnt5PPHftsvK0JJcR7F'\n",
    "download = requests.get(url).content\n",
    "\n",
    "# Reading the downloaded content and turning it into a pandas dataframe\n",
    "\n",
    "df_pop = pd.read_csv(io.StringIO(download.decode('utf-8')))\n",
    "\n",
    "# Printing out the first 5 rows of the dataframe\n",
    "\n",
    "print (df_pop.head())"
   ]
  },
  {
   "cell_type": "code",
   "execution_count": null,
   "metadata": {},
   "outputs": [],
   "source": [
    "import pandas as pd\n",
    "import requests\n",
    "import io\n",
    "\n",
    "url= 'https://raw.githubusercontent.com/slu-openGIS/MO_HEALTH_Covid_Tracking/master/data/county/county_full.csv?_sm_au_=iTVT4DZWZtNnt5PPHftsvK0JJcR7F'\n",
    "download = requests.get(url).content\n",
    "\n",
    "# Reading the downloaded content and turning it into a pandas dataframe\n",
    "\n",
    "df_county_tests = pd.read_csv(io.StringIO(download.decode('utf-8')))\n",
    "\n",
    "# Printing out the first 5 rows of the dataframe\n",
    "\n",
    "print (df_county_tests.head())"
   ]
  }
 ],
 "metadata": {
  "kernelspec": {
   "display_name": "Python 3",
   "language": "python",
   "name": "python3"
  },
  "language_info": {
   "codemirror_mode": {
    "name": "ipython",
    "version": 3
   },
   "file_extension": ".py",
   "mimetype": "text/x-python",
   "name": "python",
   "nbconvert_exporter": "python",
   "pygments_lexer": "ipython3",
   "version": "3.7.6"
  }
 },
 "nbformat": 4,
 "nbformat_minor": 4
}
