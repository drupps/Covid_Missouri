{
 "cells": [
  {
   "cell_type": "code",
   "execution_count": 1,
   "metadata": {},
   "outputs": [
    {
     "name": "stdout",
     "output_type": "stream",
     "text": [
      "  report_date  pcr_neg  pcr_pos  pcr_int  pcr_total  pcr_avg\n",
      "0  2020-03-16      409       30        0        439      NaN\n",
      "1  2020-03-17      635       50        0        685      NaN\n",
      "2  2020-03-18      738       57        2        797      NaN\n",
      "3  2020-03-19     1057       71        1       1129      NaN\n",
      "4  2020-03-20     1076      104        2       1182      NaN\n"
     ]
    }
   ],
   "source": [
    "# Libraries needed for the tutorial\n",
    "\n",
    "import pandas as pd\n",
    "import requests\n",
    "import io\n",
    "    \n",
    "# Downloading the csv file from your GitHub account\n",
    "## NEEDS TO BE RAW LINK OR IT WILL NOT WORK\n",
    "url = \"https://raw.githubusercontent.com/slu-openGIS/MO_HEALTH_Covid_Tracking/0272dcbe209e6bd6913c74660f04b80eed2ef9e1/data/state/state_live_tests.csv?_sm_au_=iTV0t3Dkn0R3M7DNHftsvK0JJcR7F\" # Make sure the url is the raw version of the file on GitHub\n",
    "\n",
    "\n",
    "download = requests.get(url).content\n",
    "\n",
    "# Reading the downloaded content and turning it into a pandas dataframe\n",
    "\n",
    "mo_tests = pd.read_csv(io.StringIO(download.decode('utf-8')))\n",
    "### PCR = polymerase chain reaction\n",
    "# Printing out the first 5 rows of the dataframe\n",
    "\n",
    "print (mo_tests.head())\n"
   ]
  },
  {
   "cell_type": "code",
   "execution_count": null,
   "metadata": {},
   "outputs": [],
   "source": []
  }
 ],
 "metadata": {
  "kernelspec": {
   "display_name": "Python 3",
   "language": "python",
   "name": "python3"
  },
  "language_info": {
   "codemirror_mode": {
    "name": "ipython",
    "version": 3
   },
   "file_extension": ".py",
   "mimetype": "text/x-python",
   "name": "python",
   "nbconvert_exporter": "python",
   "pygments_lexer": "ipython3",
   "version": "3.6.10"
  }
 },
 "nbformat": 4,
 "nbformat_minor": 4
}
