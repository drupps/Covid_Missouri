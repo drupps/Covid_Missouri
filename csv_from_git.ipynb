{
 "metadata": {
  "language_info": {
   "codemirror_mode": {
    "name": "ipython",
    "version": 3
   },
   "file_extension": ".py",
   "mimetype": "text/x-python",
   "name": "python",
   "nbconvert_exporter": "python",
   "pygments_lexer": "ipython3",
   "version": 3
  },
  "orig_nbformat": 2
 },
 "nbformat": 4,
 "nbformat_minor": 2,
 "cells": [
  {
   "cell_type": "code",
   "execution_count": null,
   "metadata": {},
   "outputs": [],
   "source": [
    "# Libraries needed for the tutorial\n",
    "\n",
    "import pandas as pd\n",
    "import requests\n",
    "import io\n",
    "    \n",
    "# Downloading the csv file from your GitHub account\n",
    "## NEEDS TO BE RAW LINK OR IT WILL NOT WORK\n",
    "url = \"https://raw.githubusercontent.com/slu-openGIS/MO_HEALTH_Covid_Tracking/master/data/zip/zip_stl_county.csv?_sm_au_=iTV0t3Dkn0R3M7DNHftsvK0JJcR7F\" # Make sure the url is the raw version of the file on GitHub\n",
    "download = requests.get(url).content\n",
    "\n",
    "# Reading the downloaded content and turning it into a pandas dataframe\n",
    "\n",
    "df = pd.read_csv(io.StringIO(download.decode('utf-8')))\n",
    "\n",
    "# Printing out the first 5 rows of the dataframe\n",
    "\n",
    "print (df.head())"
   ]
  }
 ]
}